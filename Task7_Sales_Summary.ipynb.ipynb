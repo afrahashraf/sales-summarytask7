{
 "cells": [
  {
   "cell_type": "code",
   "execution_count": 3,
   "id": "a43a962b-8bb8-442c-9f73-97a052d1ebed",
   "metadata": {},
   "outputs": [
    {
     "name": "stdout",
     "output_type": "stream",
     "text": [
      "✅ sales_data.db recreated successfully with 'sales' table.\n"
     ]
    }
   ],
   "source": [
    "import sqlite3\n",
    "\n",
    "# Recreate the database and sales table\n",
    "conn = sqlite3.connect(\"sales_data.db\")\n",
    "cursor = conn.cursor()\n",
    "\n",
    "# Drop the table if it already exists (to avoid duplicates/errors)\n",
    "cursor.execute(\"DROP TABLE IF EXISTS sales\")\n",
    "\n",
    "# Create a new table\n",
    "cursor.execute('''\n",
    "CREATE TABLE sales (\n",
    "    product TEXT,\n",
    "    quantity INTEGER,\n",
    "    price REAL\n",
    ")\n",
    "''')\n",
    "\n",
    "# Insert sample data\n",
    "sample_data = [\n",
    "    (\"Pen\", 10, 5.0),\n",
    "    (\"Notebook\", 5, 20.0),\n",
    "    (\"Pencil\", 12, 2.0),\n",
    "    (\"Eraser\", 8, 3.0),\n",
    "    (\"Pen\", 15, 5.0),\n",
    "    (\"Notebook\", 3, 20.0)\n",
    "]\n",
    "\n",
    "cursor.executemany(\"INSERT INTO sales (product, quantity, price) VALUES (?, ?, ?)\", sample_data)\n",
    "\n",
    "# Commit and close\n",
    "conn.commit()\n",
    "conn.close()\n",
    "\n",
    "print(\"✅ sales_data.db recreated successfully with 'sales' table.\")\n"
   ]
  },
  {
   "cell_type": "code",
   "execution_count": 4,
   "id": "d9d450e5-4147-4e84-b850-f36cf08c8bf9",
   "metadata": {},
   "outputs": [
    {
     "name": "stdout",
     "output_type": "stream",
     "text": [
      "    product  total_qty  revenue\n",
      "0    Eraser          8     24.0\n",
      "1  Notebook          8    160.0\n",
      "2       Pen         25    125.0\n",
      "3    Pencil         12     24.0\n"
     ]
    }
   ],
   "source": [
    "import pandas as pd\n",
    "import sqlite3\n",
    "\n",
    "conn = sqlite3.connect(\"sales_data.db\")\n",
    "\n",
    "query = \"\"\"\n",
    "SELECT \n",
    "    product, \n",
    "    SUM(quantity) AS total_qty, \n",
    "    SUM(quantity * price) AS revenue \n",
    "FROM sales \n",
    "GROUP BY product\n",
    "\"\"\"\n",
    "\n",
    "df = pd.read_sql_query(query, conn)\n",
    "conn.close()\n",
    "\n",
    "print(df)\n"
   ]
  },
  {
   "cell_type": "code",
   "execution_count": 5,
   "id": "c2f736bf-48d5-41d3-85d6-c6c40e7dd764",
   "metadata": {},
   "outputs": [
    {
     "data": {
      "image/png": "[encoded data removed]",
      "text/plain": [
       "<Figure size 640x480 with 1 Axes>"
      ]
     },
     "metadata": {},
     "output_type": "display_data"
    }
   ],
   "source": [
    "import matplotlib.pyplot as plt\n",
    "\n",
    "# Plot a bar chart of revenue by product\n",
    "df.plot(\n",
    "    kind='bar',\n",
    "    x='product',\n",
    "    y='revenue',\n",
    "    color='skyblue',\n",
    "    legend=False,\n",
    "    title='Revenue by Product'\n",
    ")\n",
    "\n",
    "# Add axis labels\n",
    "plt.xlabel(\"Product\")\n",
    "plt.ylabel(\"Revenue\")\n",
    "plt.tight_layout()\n",
    "\n",
    "# Optional: Save the chart as an image\n",
    "plt.savefig(\"sales_chart.png\")\n",
    "\n",
    "# Show the chart\n",
    "plt.show()\n"
   ]
  },
  {
   "cell_type": "code",
   "execution_count": null,
   "id": "b56416c1-ea4c-4a66-af78-927f9e656740",
   "metadata": {},
   "outputs": [],
   "source": []
  }
 ],
 "metadata": {
  "kernelspec": {
   "display_name": "Python 3 (ipykernel)",
   "language": "python",
   "name": "python3"
  },
  "language_info": {
   "codemirror_mode": {
    "name": "ipython",
    "version": 3
   },
   "file_extension": ".py",
   "mimetype": "text/x-python",
   "name": "python",
   "nbconvert_exporter": "python",
   "pygments_lexer": "ipython3",
   "version": "3.13.3"
  }
 },
 "nbformat": 4,
 "nbformat_minor": 5
}
